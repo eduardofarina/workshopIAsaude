{
  "nbformat": 4,
  "nbformat_minor": 0,
  "metadata": {
    "colab": {
      "name": "WORKSHOP IA SAUDE.ipynb",
      "provenance": [],
      "toc_visible": true,
      "include_colab_link": true
    },
    "kernelspec": {
      "name": "python3",
      "display_name": "Python 3"
    }
  },
  "cells": [
    {
      "cell_type": "markdown",
      "metadata": {
        "id": "view-in-github",
        "colab_type": "text"
      },
      "source": [
        "<a href=\"https://colab.research.google.com/github/eduardofarina/workshopIAsaude/blob/master/WORKSHOP_IA_SAUDE.ipynb\" target=\"_parent\"><img src=\"https://colab.research.google.com/assets/colab-badge.svg\" alt=\"Open In Colab\"/></a>"
      ]
    },
    {
      "cell_type": "markdown",
      "metadata": {
        "id": "Tl-LXFHlR47E",
        "colab_type": "text"
      },
      "source": [
        "#Pessoal, vamos tentar replicar as técnicas utilizadas pelo artigo proposto no início do worskhop, em um dataset público que replica o grande estudo de Framingham."
      ]
    },
    {
      "cell_type": "code",
      "metadata": {
        "id": "Kf7KC0djhsod",
        "colab_type": "code",
        "colab": {}
      },
      "source": [
        "# Importar bibliotecas\n",
        "import pandas as pd\n",
        "import numpy as np\n",
        "import os\n",
        "import matplotlib.pyplot as plt\n"
      ],
      "execution_count": 17,
      "outputs": []
    },
    {
      "cell_type": "code",
      "metadata": {
        "id": "lLN_ejGVhcfA",
        "colab_type": "code",
        "colab": {}
      },
      "source": [
        "# Importar do Kaggle\n",
        "!pip3 install -q kaggle\n",
        "\n",
        "kjson = pd.read_json('kaggle.json',typ='series')"
      ],
      "execution_count": 2,
      "outputs": []
    },
    {
      "cell_type": "code",
      "metadata": {
        "id": "g5TDgz3Hho5w",
        "colab_type": "code",
        "colab": {}
      },
      "source": [
        "# Coloque suas credenciais kaggle\n",
        "os.environ['KAGGLE_USERNAME']= \"eduardofarina\"\n",
        "os.environ['KAGGLE_KEY']= kjson.key"
      ],
      "execution_count": 3,
      "outputs": []
    },
    {
      "cell_type": "code",
      "metadata": {
        "id": "IhppPYfthx0Z",
        "colab_type": "code",
        "colab": {
          "base_uri": "https://localhost:8080/",
          "height": 68
        },
        "outputId": "0b4c22f5-c607-419d-cb3a-a3ea56c6f62a"
      },
      "source": [
        "# baixar o dataset\n",
        "!kaggle datasets download -d amanajmera1/framingham-heart-study-dataset"
      ],
      "execution_count": 4,
      "outputs": [
        {
          "output_type": "stream",
          "text": [
            "Downloading framingham-heart-study-dataset.zip to /content\n",
            "\r  0% 0.00/58.0k [00:00<?, ?B/s]\n",
            "\r100% 58.0k/58.0k [00:00<00:00, 22.5MB/s]\n"
          ],
          "name": "stdout"
        }
      ]
    },
    {
      "cell_type": "code",
      "metadata": {
        "id": "9x_efMIjkb2j",
        "colab_type": "code",
        "colab": {
          "base_uri": "https://localhost:8080/",
          "height": 51
        },
        "outputId": "3023f739-2560-40fa-8cbb-4385a5ba19bd"
      },
      "source": [
        "# unzip o dataset\n",
        "!unzip framingham-heart-study-dataset.zip"
      ],
      "execution_count": 5,
      "outputs": [
        {
          "output_type": "stream",
          "text": [
            "Archive:  framingham-heart-study-dataset.zip\n",
            "  inflating: framingham.csv          \n"
          ],
          "name": "stdout"
        }
      ]
    },
    {
      "cell_type": "code",
      "metadata": {
        "id": "bDwHe3LQiG4t",
        "colab_type": "code",
        "colab": {}
      },
      "source": [
        "# Fazer a leitura do banco de dados com a biblioteca Pandas.\n",
        "# Pandas é como um \"excel\" do Python.\n",
        "data = pd.read_csv('framingham.csv')"
      ],
      "execution_count": 6,
      "outputs": []
    },
    {
      "cell_type": "code",
      "metadata": {
        "id": "B6NwK0ET3KzY",
        "colab_type": "code",
        "colab": {
          "base_uri": "https://localhost:8080/",
          "height": 34
        },
        "outputId": "ad5aaeab-5936-42f0-9476-ec8985c1cce0"
      },
      "source": [
        "# Verificar o formato do banco de dados.\n",
        "data.shape"
      ],
      "execution_count": 7,
      "outputs": [
        {
          "output_type": "execute_result",
          "data": {
            "text/plain": [
              "(4240, 16)"
            ]
          },
          "metadata": {
            "tags": []
          },
          "execution_count": 7
        }
      ]
    },
    {
      "cell_type": "code",
      "metadata": {
        "id": "NDNp0_kiuMT8",
        "colab_type": "code",
        "colab": {}
      },
      "source": [
        "# trocar o nome das colunas do dataset para potuguês\n",
        "\n",
        "data.columns = ['masculino', \n",
        "               'idade', \n",
        "               'educação',\n",
        "               'fumante_atual', \n",
        "               'cigarros_por_dia', \n",
        "               'remedioHAS',\n",
        "               'AVCp', \n",
        "               'hipertensão_pre', \n",
        "               'diabetes', \n",
        "               'colesterol_total', \n",
        "               'pressao_sistolica',\n",
        "               'pressao_diastolica', \n",
        "               'IMC', \n",
        "               'feq_cardiaca', \n",
        "               'glicose', \n",
        "               '10anosDCH']"
      ],
      "execution_count": 8,
      "outputs": []
    },
    {
      "cell_type": "code",
      "metadata": {
        "id": "WP1vNjptrQxD",
        "colab_type": "code",
        "colab": {
          "base_uri": "https://localhost:8080/",
          "height": 224
        },
        "outputId": "d43ed08d-1b0b-43b6-ae85-b654b9d3803e"
      },
      "source": [
        "# Verificiar o formato do dataset só por sua cabeça, ver como os dados estão.\n",
        "\n",
        "data.head()"
      ],
      "execution_count": 9,
      "outputs": [
        {
          "output_type": "execute_result",
          "data": {
            "text/html": [
              "<div>\n",
              "<style scoped>\n",
              "    .dataframe tbody tr th:only-of-type {\n",
              "        vertical-align: middle;\n",
              "    }\n",
              "\n",
              "    .dataframe tbody tr th {\n",
              "        vertical-align: top;\n",
              "    }\n",
              "\n",
              "    .dataframe thead th {\n",
              "        text-align: right;\n",
              "    }\n",
              "</style>\n",
              "<table border=\"1\" class=\"dataframe\">\n",
              "  <thead>\n",
              "    <tr style=\"text-align: right;\">\n",
              "      <th></th>\n",
              "      <th>masculino</th>\n",
              "      <th>idade</th>\n",
              "      <th>educação</th>\n",
              "      <th>fumante_atual</th>\n",
              "      <th>cigarros_por_dia</th>\n",
              "      <th>remedioHAS</th>\n",
              "      <th>AVCp</th>\n",
              "      <th>hipertensão_pre</th>\n",
              "      <th>diabetes</th>\n",
              "      <th>colesterol_total</th>\n",
              "      <th>pressao_sistolica</th>\n",
              "      <th>pressao_diastolica</th>\n",
              "      <th>IMC</th>\n",
              "      <th>feq_cardiaca</th>\n",
              "      <th>glicose</th>\n",
              "      <th>10anosDCH</th>\n",
              "    </tr>\n",
              "  </thead>\n",
              "  <tbody>\n",
              "    <tr>\n",
              "      <th>0</th>\n",
              "      <td>1</td>\n",
              "      <td>39</td>\n",
              "      <td>4.0</td>\n",
              "      <td>0</td>\n",
              "      <td>0.0</td>\n",
              "      <td>0.0</td>\n",
              "      <td>0</td>\n",
              "      <td>0</td>\n",
              "      <td>0</td>\n",
              "      <td>195.0</td>\n",
              "      <td>106.0</td>\n",
              "      <td>70.0</td>\n",
              "      <td>26.97</td>\n",
              "      <td>80.0</td>\n",
              "      <td>77.0</td>\n",
              "      <td>0</td>\n",
              "    </tr>\n",
              "    <tr>\n",
              "      <th>1</th>\n",
              "      <td>0</td>\n",
              "      <td>46</td>\n",
              "      <td>2.0</td>\n",
              "      <td>0</td>\n",
              "      <td>0.0</td>\n",
              "      <td>0.0</td>\n",
              "      <td>0</td>\n",
              "      <td>0</td>\n",
              "      <td>0</td>\n",
              "      <td>250.0</td>\n",
              "      <td>121.0</td>\n",
              "      <td>81.0</td>\n",
              "      <td>28.73</td>\n",
              "      <td>95.0</td>\n",
              "      <td>76.0</td>\n",
              "      <td>0</td>\n",
              "    </tr>\n",
              "    <tr>\n",
              "      <th>2</th>\n",
              "      <td>1</td>\n",
              "      <td>48</td>\n",
              "      <td>1.0</td>\n",
              "      <td>1</td>\n",
              "      <td>20.0</td>\n",
              "      <td>0.0</td>\n",
              "      <td>0</td>\n",
              "      <td>0</td>\n",
              "      <td>0</td>\n",
              "      <td>245.0</td>\n",
              "      <td>127.5</td>\n",
              "      <td>80.0</td>\n",
              "      <td>25.34</td>\n",
              "      <td>75.0</td>\n",
              "      <td>70.0</td>\n",
              "      <td>0</td>\n",
              "    </tr>\n",
              "    <tr>\n",
              "      <th>3</th>\n",
              "      <td>0</td>\n",
              "      <td>61</td>\n",
              "      <td>3.0</td>\n",
              "      <td>1</td>\n",
              "      <td>30.0</td>\n",
              "      <td>0.0</td>\n",
              "      <td>0</td>\n",
              "      <td>1</td>\n",
              "      <td>0</td>\n",
              "      <td>225.0</td>\n",
              "      <td>150.0</td>\n",
              "      <td>95.0</td>\n",
              "      <td>28.58</td>\n",
              "      <td>65.0</td>\n",
              "      <td>103.0</td>\n",
              "      <td>1</td>\n",
              "    </tr>\n",
              "    <tr>\n",
              "      <th>4</th>\n",
              "      <td>0</td>\n",
              "      <td>46</td>\n",
              "      <td>3.0</td>\n",
              "      <td>1</td>\n",
              "      <td>23.0</td>\n",
              "      <td>0.0</td>\n",
              "      <td>0</td>\n",
              "      <td>0</td>\n",
              "      <td>0</td>\n",
              "      <td>285.0</td>\n",
              "      <td>130.0</td>\n",
              "      <td>84.0</td>\n",
              "      <td>23.10</td>\n",
              "      <td>85.0</td>\n",
              "      <td>85.0</td>\n",
              "      <td>0</td>\n",
              "    </tr>\n",
              "  </tbody>\n",
              "</table>\n",
              "</div>"
            ],
            "text/plain": [
              "   masculino  idade  educação  ...  feq_cardiaca  glicose  10anosDCH\n",
              "0          1     39       4.0  ...          80.0     77.0          0\n",
              "1          0     46       2.0  ...          95.0     76.0          0\n",
              "2          1     48       1.0  ...          75.0     70.0          0\n",
              "3          0     61       3.0  ...          65.0    103.0          1\n",
              "4          0     46       3.0  ...          85.0     85.0          0\n",
              "\n",
              "[5 rows x 16 columns]"
            ]
          },
          "metadata": {
            "tags": []
          },
          "execution_count": 9
        }
      ]
    },
    {
      "cell_type": "markdown",
      "metadata": {
        "id": "Cm-BYiR7tXBD",
        "colab_type": "text"
      },
      "source": [
        "### Dicionário de Dados\n",
        "* Masculino \n",
        "* Idade\n",
        "* Educação\n",
        "    *1 = Some High School; 2 = High School or GED; 3 = Some College or Vocational 4 = college\n",
        "* Fumante atualmente\n",
        "* Cigarros por dia\n",
        "* Pressão Arterial Media\n",
        "* AVC prevalente \n",
        "* Hipertensão prevalente\n",
        "* Diabetes\n",
        "* Colesterol_total\n",
        "* Pressão Arterial Sistolica\n",
        "* Pressão Diastolica\n",
        "* IMC\n",
        "* Frequência cardiaca\n",
        "* Glicose\n",
        "* Doença cardiovascular*\n",
        "\n",
        "*Desfecho!"
      ]
    },
    {
      "cell_type": "markdown",
      "metadata": {
        "id": "IJlVZparri4Y",
        "colab_type": "text"
      },
      "source": [
        "## Score de Framingham\n",
        "### Em homens\n",
        "LHomem = β x ln(Idade) \n",
        "     + β x ln(Total colesterol) \n",
        "     + β x ln(HDL colesterol) \n",
        "     + β x ln (PA sistólica)\n",
        "     + β x tratado para pressão arterial\n",
        "     + β x Fumante + β x ln (Idade) x ln (Colesterol total)\n",
        "     + β x ln (Idade) x Fumante\n",
        "     + β x ln (Idade) x ln (Idade)\n",
        "     **- 172.300168**\n",
        "\n",
        "PMen = 1 - 0.9402^exp(LMen)\n",
        "\n",
        "### Em mulheres\n",
        "LMulher = β x ln (idade) + β x ln(colesterol total) + β x ln(colesterol HDL) + β x ln(pressão arterial sistólica) + β x Tratados para pressão arterial + β x Fumante + β x ln(idade) x ln(colesterol total) + β x ln(idade) x Fumante **- 146.5933061**\n",
        "PWomen = 1 - 0,98767 ^ exp (AWomen)"
      ]
    },
    {
      "cell_type": "markdown",
      "metadata": {
        "id": "0jS0JysIrvro",
        "colab_type": "text"
      },
      "source": [
        "| Variáveis | Homens Coef. | Mulheres Coef. |\n",
        "| --- | --- | --- |\n",
        "| ln(idade) | 52.00961 | 31.764001 |\n",
        "| ln(colesterol total) | 20.014077 | 22.465206 |\n",
        "| ln(colesterol HDL) | -0,905964 | -1.187731\n",
        "| ln(PA sistólica) | 1.305784 | 2.552905 |\n",
        "| Tratada para pressão arterial * | 0,241549 | 0,420251 |\n",
        "| Fumante * | 12.096316 | 13.07543\n",
        "| ln(idade) x ln(colesterol total) | -4,605038 | -5,060998 |\n",
        "| ln(Idade) x Fumante ** | -2,84367 | -2,996945 |\n",
        "| ln(idade) x ln(idade) | -2,93323 | - |\n",
        "\n",
        "* *Sim ou não = 0 ou 1\n",
        "* **Homens: se tiver> 70 anos, use ln (70) x Fumante. \n",
        "* **Mulheres: se tiver> 78 anos, use ln (78) x Fumante."
      ]
    },
    {
      "cell_type": "code",
      "metadata": {
        "id": "rE3v8ocEU2Ta",
        "colab_type": "code",
        "colab": {
          "base_uri": "https://localhost:8080/",
          "height": 69
        },
        "outputId": "18676b61-f9c6-4812-9561-46dfb9c12505"
      },
      "source": [
        "# Verificar se existem linhas duplicadas (o mesmo paciente em duas linhas diferentes)\n",
        "duplicate_df = data[data.duplicated()]\n",
        "duplicate_df"
      ],
      "execution_count": 10,
      "outputs": [
        {
          "output_type": "execute_result",
          "data": {
            "text/html": [
              "<div>\n",
              "<style scoped>\n",
              "    .dataframe tbody tr th:only-of-type {\n",
              "        vertical-align: middle;\n",
              "    }\n",
              "\n",
              "    .dataframe tbody tr th {\n",
              "        vertical-align: top;\n",
              "    }\n",
              "\n",
              "    .dataframe thead th {\n",
              "        text-align: right;\n",
              "    }\n",
              "</style>\n",
              "<table border=\"1\" class=\"dataframe\">\n",
              "  <thead>\n",
              "    <tr style=\"text-align: right;\">\n",
              "      <th></th>\n",
              "      <th>masculino</th>\n",
              "      <th>idade</th>\n",
              "      <th>educação</th>\n",
              "      <th>fumante_atual</th>\n",
              "      <th>cigarros_por_dia</th>\n",
              "      <th>remedioHAS</th>\n",
              "      <th>AVCp</th>\n",
              "      <th>hipertensão_pre</th>\n",
              "      <th>diabetes</th>\n",
              "      <th>colesterol_total</th>\n",
              "      <th>pressao_sistolica</th>\n",
              "      <th>pressao_diastolica</th>\n",
              "      <th>IMC</th>\n",
              "      <th>feq_cardiaca</th>\n",
              "      <th>glicose</th>\n",
              "      <th>10anosDCH</th>\n",
              "    </tr>\n",
              "  </thead>\n",
              "  <tbody>\n",
              "  </tbody>\n",
              "</table>\n",
              "</div>"
            ],
            "text/plain": [
              "Empty DataFrame\n",
              "Columns: [masculino, idade, educação, fumante_atual, cigarros_por_dia, remedioHAS, AVCp, hipertensão_pre, diabetes, colesterol_total, pressao_sistolica, pressao_diastolica, IMC, feq_cardiaca, glicose, 10anosDCH]\n",
              "Index: []"
            ]
          },
          "metadata": {
            "tags": []
          },
          "execution_count": 10
        }
      ]
    },
    {
      "cell_type": "code",
      "metadata": {
        "id": "_OwfuET-0TzJ",
        "colab_type": "code",
        "colab": {
          "base_uri": "https://localhost:8080/",
          "height": 306
        },
        "outputId": "dabe0178-9fa3-4270-b964-c0615fad9cb9"
      },
      "source": [
        "# Verificar se existem valores faltantes. Valores nulos.\n",
        "\n",
        "data.isnull().sum()"
      ],
      "execution_count": 11,
      "outputs": [
        {
          "output_type": "execute_result",
          "data": {
            "text/plain": [
              "masculino               0\n",
              "idade                   0\n",
              "educação              105\n",
              "fumante_atual           0\n",
              "cigarros_por_dia       29\n",
              "remedioHAS             53\n",
              "AVCp                    0\n",
              "hipertensão_pre         0\n",
              "diabetes                0\n",
              "colesterol_total       50\n",
              "pressao_sistolica       0\n",
              "pressao_diastolica      0\n",
              "IMC                    19\n",
              "feq_cardiaca            1\n",
              "glicose               388\n",
              "10anosDCH               0\n",
              "dtype: int64"
            ]
          },
          "metadata": {
            "tags": []
          },
          "execution_count": 11
        }
      ]
    },
    {
      "cell_type": "code",
      "metadata": {
        "id": "rxQ6b2vKBzs5",
        "colab_type": "code",
        "colab": {
          "base_uri": "https://localhost:8080/",
          "height": 336
        },
        "outputId": "7ac28c3a-0b2f-4e2a-9682-3a1cc929ffee"
      },
      "source": [
        "# Fazer um density plot, para olhar a distribuição da variável.\n",
        "\n",
        "import seaborn as sns\n",
        "sns.kdeplot(data['cigarros_por_dia'], shade=True)"
      ],
      "execution_count": 12,
      "outputs": [
        {
          "output_type": "stream",
          "text": [
            "/usr/local/lib/python3.6/dist-packages/statsmodels/tools/_testing.py:19: FutureWarning: pandas.util.testing is deprecated. Use the functions in the public API at pandas.testing instead.\n",
            "  import pandas.util.testing as tm\n"
          ],
          "name": "stderr"
        },
        {
          "output_type": "execute_result",
          "data": {
            "text/plain": [
              "<matplotlib.axes._subplots.AxesSubplot at 0x7f9dd63faf60>"
            ]
          },
          "metadata": {
            "tags": []
          },
          "execution_count": 12
        },
        {
          "output_type": "display_data",
          "data": {
            "image/png": "[encoded data removed]",
            "text/plain": [
              "<Figure size 432x288 with 1 Axes>"
            ]
          },
          "metadata": {
            "tags": [],
            "needs_background": "light"
          }
        }
      ]
    },
    {
      "cell_type": "code",
      "metadata": {
        "id": "51ALjefmDBNK",
        "colab_type": "code",
        "colab": {
          "base_uri": "https://localhost:8080/",
          "height": 269
        },
        "outputId": "78169f5f-15a4-4497-df63-6491144d19ca"
      },
      "source": [
        "# Boxplot para avaliar distribuiçao da amostra e presença de outliers.\n",
        "sns.boxplot(y = data['cigarros_por_dia'])"
      ],
      "execution_count": 13,
      "outputs": [
        {
          "output_type": "execute_result",
          "data": {
            "text/plain": [
              "<matplotlib.axes._subplots.AxesSubplot at 0x7f9dd5791c50>"
            ]
          },
          "metadata": {
            "tags": []
          },
          "execution_count": 13
        },
        {
          "output_type": "display_data",
          "data": {
            "image/png": "[encoded data removed]",
            "text/plain": [
              "<Figure size 432x288 with 1 Axes>"
            ]
          },
          "metadata": {
            "tags": [],
            "needs_background": "light"
          }
        }
      ]
    },
    {
      "cell_type": "code",
      "metadata": {
        "id": "oS-80U5_EOJc",
        "colab_type": "code",
        "colab": {
          "base_uri": "https://localhost:8080/",
          "height": 282
        },
        "outputId": "e15579a7-1c13-4b21-bc7a-1a8ad5e5a3a1"
      },
      "source": [
        "sns.kdeplot(data['idade'], shade=True)"
      ],
      "execution_count": 14,
      "outputs": [
        {
          "output_type": "execute_result",
          "data": {
            "text/plain": [
              "<matplotlib.axes._subplots.AxesSubplot at 0x7f9dd577beb8>"
            ]
          },
          "metadata": {
            "tags": []
          },
          "execution_count": 14
        },
        {
          "output_type": "display_data",
          "data": {
            "image/png": "[encoded data removed]",
            "text/plain": [
              "<Figure size 432x288 with 1 Axes>"
            ]
          },
          "metadata": {
            "tags": [],
            "needs_background": "light"
          }
        }
      ]
    },
    {
      "cell_type": "code",
      "metadata": {
        "id": "jJzgFlk5ET81",
        "colab_type": "code",
        "colab": {
          "base_uri": "https://localhost:8080/",
          "height": 282
        },
        "outputId": "090d736d-08f5-459e-e515-61eed555b9fa"
      },
      "source": [
        "sns.kdeplot(data['colesterol_total'])"
      ],
      "execution_count": 15,
      "outputs": [
        {
          "output_type": "execute_result",
          "data": {
            "text/plain": [
              "<matplotlib.axes._subplots.AxesSubplot at 0x7f9dd56ef6d8>"
            ]
          },
          "metadata": {
            "tags": []
          },
          "execution_count": 15
        },
        {
          "output_type": "display_data",
          "data": {
            "image/png": "[encoded data removed]",
            "text/plain": [
              "<Figure size 432x288 with 1 Axes>"
            ]
          },
          "metadata": {
            "tags": [],
            "needs_background": "light"
          }
        }
      ]
    },
    {
      "cell_type": "code",
      "metadata": {
        "id": "vgxRkxg-izJ4",
        "colab_type": "code",
        "colab": {
          "base_uri": "https://localhost:8080/",
          "height": 957
        },
        "outputId": "71dfc3c9-385b-4967-e4ca-f8766d186f38"
      },
      "source": [
        "def draw_histograms(dataframe, colunas, rows, cols):\n",
        "    fig=plt.figure(figsize=(20,20))\n",
        "    for i, colunas in enumerate(colunas):\n",
        "        ax=fig.add_subplot(rows,cols,i+1)\n",
        "        dataframe[colunas].hist(bins=20,ax=ax,facecolor='midnightblue')\n",
        "        ax.set_title(colunas +\" Distribution\",color='DarkRed')\n",
        "        \n",
        "    fig.tight_layout()  \n",
        "    plt.show()\n",
        "draw_histograms(data,data.columns,6,3)"
      ],
      "execution_count": 22,
      "outputs": [
        {
          "output_type": "display_data",
          "data": {
            "image/png": "[encoded data removed]",
            "text/plain": [
              "<Figure size 1440x1440 with 16 Axes>"
            ]
          },
          "metadata": {
            "tags": [],
            "needs_background": "light"
          }
        }
      ]
    },
    {
      "cell_type": "code",
      "metadata": {
        "id": "BCvk93HxYbRk",
        "colab_type": "code",
        "colab": {}
      },
      "source": [
        "# importando a biblioteca para realizar a divisão em treino e teste.\n",
        "from sklearn.model_selection import train_test_split"
      ],
      "execution_count": 24,
      "outputs": []
    },
    {
      "cell_type": "code",
      "metadata": {
        "id": "EoBM_hXbYyuB",
        "colab_type": "code",
        "colab": {}
      },
      "source": [
        "# definindo as variáveis input\n",
        "X = data.drop(columns = ['10anosDCH'])"
      ],
      "execution_count": 25,
      "outputs": []
    },
    {
      "cell_type": "code",
      "metadata": {
        "id": "Kf__836NZE1J",
        "colab_type": "code",
        "colab": {}
      },
      "source": [
        "# definindo a variável output  \n",
        "y = data['10anosDCH']"
      ],
      "execution_count": 26,
      "outputs": []
    },
    {
      "cell_type": "code",
      "metadata": {
        "id": "wE85mvi-YqCC",
        "colab_type": "code",
        "colab": {}
      },
      "source": [
        "# separando em treino e teste.\n",
        "X_train, X_test, y_train, y_test = train_test_split(X, y, test_size=0.25, random_state=42)"
      ],
      "execution_count": 27,
      "outputs": []
    },
    {
      "cell_type": "code",
      "metadata": {
        "id": "yncgR7MFXHsl",
        "colab_type": "code",
        "colab": {}
      },
      "source": [
        "# Importando a biblioteca que realiza o tratamento de valores faltantes\n",
        "from sklearn.impute import SimpleImputer\n",
        "imp_mean = SimpleImputer(missing_values=np.nan, strategy='mean')"
      ],
      "execution_count": 28,
      "outputs": []
    },
    {
      "cell_type": "code",
      "metadata": {
        "id": "XzdurLD3XeWb",
        "colab_type": "code",
        "colab": {
          "base_uri": "https://localhost:8080/",
          "height": 51
        },
        "outputId": "d9451b92-65d6-4f73-e95f-ec31bd5f7f54"
      },
      "source": [
        "# COlocando os valores faltantes do teste.\n",
        "imp_mean.fit(X_train[['cigarros_por_dia', 'colesterol_total', 'IMC', 'glicose', 'feq_cardiaca' ]])"
      ],
      "execution_count": 29,
      "outputs": [
        {
          "output_type": "execute_result",
          "data": {
            "text/plain": [
              "SimpleImputer(add_indicator=False, copy=True, fill_value=None,\n",
              "              missing_values=nan, strategy='mean', verbose=0)"
            ]
          },
          "metadata": {
            "tags": []
          },
          "execution_count": 29
        }
      ]
    },
    {
      "cell_type": "code",
      "metadata": {
        "id": "Swvrpi69YIWK",
        "colab_type": "code",
        "colab": {
          "base_uri": "https://localhost:8080/",
          "height": 130
        },
        "outputId": "1a580d83-07e0-406a-ea11-6ad7dbddac29"
      },
      "source": [
        "X_train[['cigarros_por_dia', 'colesterol_total', 'IMC', 'glicose', 'feq_cardiaca' ]] = \n",
        "imp_mean.transform(X_train[['cigarros_por_dia', 'colesterol_total', 'IMC', 'glicose', 'feq_cardiaca' ]])"
      ],
      "execution_count": 30,
      "outputs": [
        {
          "output_type": "error",
          "ename": "SyntaxError",
          "evalue": "ignored",
          "traceback": [
            "\u001b[0;36m  File \u001b[0;32m\"<ipython-input-30-4897a8f62036>\"\u001b[0;36m, line \u001b[0;32m1\u001b[0m\n\u001b[0;31m    X_train[['cigarros_por_dia', 'colesterol_total', 'IMC', 'glicose', 'feq_cardiaca' ]] =\u001b[0m\n\u001b[0m                                                                                           ^\u001b[0m\n\u001b[0;31mSyntaxError\u001b[0m\u001b[0;31m:\u001b[0m invalid syntax\n"
          ]
        }
      ]
    },
    {
      "cell_type": "code",
      "metadata": {
        "id": "68B1np4kYOYj",
        "colab_type": "code",
        "colab": {
          "base_uri": "https://localhost:8080/",
          "height": 289
        },
        "outputId": "29e7c2d5-2863-4307-cf3d-0da1672bcece"
      },
      "source": [
        "X_train.isnull().sum()"
      ],
      "execution_count": 31,
      "outputs": [
        {
          "output_type": "execute_result",
          "data": {
            "text/plain": [
              "masculino               0\n",
              "idade                   0\n",
              "educação               86\n",
              "fumante_atual           0\n",
              "cigarros_por_dia       25\n",
              "remedioHAS             45\n",
              "AVCp                    0\n",
              "hipertensão_pre         0\n",
              "diabetes                0\n",
              "colesterol_total       43\n",
              "pressao_sistolica       0\n",
              "pressao_diastolica      0\n",
              "IMC                    12\n",
              "feq_cardiaca            1\n",
              "glicose               305\n",
              "dtype: int64"
            ]
          },
          "metadata": {
            "tags": []
          },
          "execution_count": 31
        }
      ]
    },
    {
      "cell_type": "code",
      "metadata": {
        "id": "2-2qoHrrOs6n",
        "colab_type": "code",
        "colab": {
          "base_uri": "https://localhost:8080/",
          "height": 51
        },
        "outputId": "9c6320ee-e0be-49ea-b121-ccc74e69dfa4"
      },
      "source": [
        "X_train['educação'].mode()"
      ],
      "execution_count": 32,
      "outputs": [
        {
          "output_type": "execute_result",
          "data": {
            "text/plain": [
              "0    1.0\n",
              "dtype: float64"
            ]
          },
          "metadata": {
            "tags": []
          },
          "execution_count": 32
        }
      ]
    },
    {
      "cell_type": "code",
      "metadata": {
        "id": "h_9bbHUAPmBZ",
        "colab_type": "code",
        "colab": {
          "base_uri": "https://localhost:8080/",
          "height": 51
        },
        "outputId": "19954081-6cf9-4f37-a213-0932cc5761f4"
      },
      "source": [
        "X_train['remedioHAS'].mode()"
      ],
      "execution_count": 33,
      "outputs": [
        {
          "output_type": "execute_result",
          "data": {
            "text/plain": [
              "0    0.0\n",
              "dtype: float64"
            ]
          },
          "metadata": {
            "tags": []
          },
          "execution_count": 33
        }
      ]
    },
    {
      "cell_type": "code",
      "metadata": {
        "id": "3hPLiqryZmhA",
        "colab_type": "code",
        "colab": {
          "base_uri": "https://localhost:8080/",
          "height": 122
        },
        "outputId": "7fb8272d-f431-4bc1-b134-51a39901590e"
      },
      "source": [
        "X_train['educação'].fillna(1,inplace=True)\n",
        "X_train['remedioHAS'].fillna(0,inplace=True)"
      ],
      "execution_count": 34,
      "outputs": [
        {
          "output_type": "stream",
          "text": [
            "/usr/local/lib/python3.6/dist-packages/pandas/core/generic.py:6245: SettingWithCopyWarning: \n",
            "A value is trying to be set on a copy of a slice from a DataFrame\n",
            "\n",
            "See the caveats in the documentation: https://pandas.pydata.org/pandas-docs/stable/user_guide/indexing.html#returning-a-view-versus-a-copy\n",
            "  self._update_inplace(new_data)\n"
          ],
          "name": "stderr"
        }
      ]
    },
    {
      "cell_type": "code",
      "metadata": {
        "id": "D_np8S2oZvp8",
        "colab_type": "code",
        "colab": {
          "base_uri": "https://localhost:8080/",
          "height": 289
        },
        "outputId": "2f96e74d-2862-4091-e0e1-8a384e47f29b"
      },
      "source": [
        "X_train.isnull().sum()"
      ],
      "execution_count": 35,
      "outputs": [
        {
          "output_type": "execute_result",
          "data": {
            "text/plain": [
              "masculino               0\n",
              "idade                   0\n",
              "educação                0\n",
              "fumante_atual           0\n",
              "cigarros_por_dia       25\n",
              "remedioHAS              0\n",
              "AVCp                    0\n",
              "hipertensão_pre         0\n",
              "diabetes                0\n",
              "colesterol_total       43\n",
              "pressao_sistolica       0\n",
              "pressao_diastolica      0\n",
              "IMC                    12\n",
              "feq_cardiaca            1\n",
              "glicose               305\n",
              "dtype: int64"
            ]
          },
          "metadata": {
            "tags": []
          },
          "execution_count": 35
        }
      ]
    },
    {
      "cell_type": "code",
      "metadata": {
        "id": "1_VYVArmZzd3",
        "colab_type": "code",
        "colab": {
          "base_uri": "https://localhost:8080/",
          "height": 289
        },
        "outputId": "6c56df9f-c3f0-438f-baee-adb7bc4e8e16"
      },
      "source": [
        "X_test.isnull().sum()"
      ],
      "execution_count": 36,
      "outputs": [
        {
          "output_type": "execute_result",
          "data": {
            "text/plain": [
              "masculino              0\n",
              "idade                  0\n",
              "educação              19\n",
              "fumante_atual          0\n",
              "cigarros_por_dia       4\n",
              "remedioHAS             8\n",
              "AVCp                   0\n",
              "hipertensão_pre        0\n",
              "diabetes               0\n",
              "colesterol_total       7\n",
              "pressao_sistolica      0\n",
              "pressao_diastolica     0\n",
              "IMC                    7\n",
              "feq_cardiaca           0\n",
              "glicose               83\n",
              "dtype: int64"
            ]
          },
          "metadata": {
            "tags": []
          },
          "execution_count": 36
        }
      ]
    },
    {
      "cell_type": "code",
      "metadata": {
        "id": "CluHdGCBcPAh",
        "colab_type": "code",
        "colab": {
          "base_uri": "https://localhost:8080/",
          "height": 241
        },
        "outputId": "4abc9bac-9c12-4087-ae83-5f431e4c2f83"
      },
      "source": [
        "imp_mean.fit(X_test[['cigarros_por_dia', 'colesterol_total', 'IMC', 'glicose' ]])\n",
        "X_test[['cigarros_por_dia', 'colesterol_total', 'IMC', 'glicose' ]] = imp_mean.transform(X_test[['cigarros_por_dia', 'colesterol_total', 'IMC', 'glicose' ]])"
      ],
      "execution_count": 37,
      "outputs": [
        {
          "output_type": "stream",
          "text": [
            "/usr/local/lib/python3.6/dist-packages/ipykernel_launcher.py:2: SettingWithCopyWarning: \n",
            "A value is trying to be set on a copy of a slice from a DataFrame.\n",
            "Try using .loc[row_indexer,col_indexer] = value instead\n",
            "\n",
            "See the caveats in the documentation: https://pandas.pydata.org/pandas-docs/stable/user_guide/indexing.html#returning-a-view-versus-a-copy\n",
            "  \n",
            "/usr/local/lib/python3.6/dist-packages/pandas/core/indexing.py:966: SettingWithCopyWarning: \n",
            "A value is trying to be set on a copy of a slice from a DataFrame.\n",
            "Try using .loc[row_indexer,col_indexer] = value instead\n",
            "\n",
            "See the caveats in the documentation: https://pandas.pydata.org/pandas-docs/stable/user_guide/indexing.html#returning-a-view-versus-a-copy\n",
            "  self.obj[item] = s\n"
          ],
          "name": "stderr"
        }
      ]
    },
    {
      "cell_type": "code",
      "metadata": {
        "id": "tyWAOC-1cbOm",
        "colab_type": "code",
        "colab": {
          "base_uri": "https://localhost:8080/",
          "height": 289
        },
        "outputId": "a8676776-3fdf-4242-91c5-f94b7d0f8bfe"
      },
      "source": [
        "X_test.isnull().sum()"
      ],
      "execution_count": 38,
      "outputs": [
        {
          "output_type": "execute_result",
          "data": {
            "text/plain": [
              "masculino              0\n",
              "idade                  0\n",
              "educação              19\n",
              "fumante_atual          0\n",
              "cigarros_por_dia       0\n",
              "remedioHAS             8\n",
              "AVCp                   0\n",
              "hipertensão_pre        0\n",
              "diabetes               0\n",
              "colesterol_total       0\n",
              "pressao_sistolica      0\n",
              "pressao_diastolica     0\n",
              "IMC                    0\n",
              "feq_cardiaca           0\n",
              "glicose                0\n",
              "dtype: int64"
            ]
          },
          "metadata": {
            "tags": []
          },
          "execution_count": 38
        }
      ]
    },
    {
      "cell_type": "code",
      "metadata": {
        "id": "cFL6Qtog5CO9",
        "colab_type": "code",
        "colab": {
          "base_uri": "https://localhost:8080/",
          "height": 51
        },
        "outputId": "d5466c72-ce0b-484a-af6a-cca129491988"
      },
      "source": [
        "X_test.educação.mode()"
      ],
      "execution_count": 39,
      "outputs": [
        {
          "output_type": "execute_result",
          "data": {
            "text/plain": [
              "0    1.0\n",
              "dtype: float64"
            ]
          },
          "metadata": {
            "tags": []
          },
          "execution_count": 39
        }
      ]
    },
    {
      "cell_type": "code",
      "metadata": {
        "id": "qsBqJi_q5Ht-",
        "colab_type": "code",
        "colab": {
          "base_uri": "https://localhost:8080/",
          "height": 51
        },
        "outputId": "77ade4d8-baf8-42cc-e003-bdb03fc625d4"
      },
      "source": [
        "X_test.remedioHAS.mode()"
      ],
      "execution_count": 40,
      "outputs": [
        {
          "output_type": "execute_result",
          "data": {
            "text/plain": [
              "0    0.0\n",
              "dtype: float64"
            ]
          },
          "metadata": {
            "tags": []
          },
          "execution_count": 40
        }
      ]
    },
    {
      "cell_type": "code",
      "metadata": {
        "id": "2HguB_zTZ4_v",
        "colab_type": "code",
        "colab": {
          "base_uri": "https://localhost:8080/",
          "height": 122
        },
        "outputId": "37f7527c-3044-4926-82e5-be244d12a941"
      },
      "source": [
        "X_test.remedioHAS.fillna(0, inplace=True)"
      ],
      "execution_count": 41,
      "outputs": [
        {
          "output_type": "stream",
          "text": [
            "/usr/local/lib/python3.6/dist-packages/pandas/core/generic.py:6245: SettingWithCopyWarning: \n",
            "A value is trying to be set on a copy of a slice from a DataFrame\n",
            "\n",
            "See the caveats in the documentation: https://pandas.pydata.org/pandas-docs/stable/user_guide/indexing.html#returning-a-view-versus-a-copy\n",
            "  self._update_inplace(new_data)\n"
          ],
          "name": "stderr"
        }
      ]
    },
    {
      "cell_type": "code",
      "metadata": {
        "id": "O5elNBL95QhT",
        "colab_type": "code",
        "colab": {
          "base_uri": "https://localhost:8080/",
          "height": 122
        },
        "outputId": "9966d5e9-d486-4ddd-9c95-e7e95412d834"
      },
      "source": [
        "X_test.educação.fillna(1, inplace=True)"
      ],
      "execution_count": 42,
      "outputs": [
        {
          "output_type": "stream",
          "text": [
            "/usr/local/lib/python3.6/dist-packages/pandas/core/generic.py:6245: SettingWithCopyWarning: \n",
            "A value is trying to be set on a copy of a slice from a DataFrame\n",
            "\n",
            "See the caveats in the documentation: https://pandas.pydata.org/pandas-docs/stable/user_guide/indexing.html#returning-a-view-versus-a-copy\n",
            "  self._update_inplace(new_data)\n"
          ],
          "name": "stderr"
        }
      ]
    },
    {
      "cell_type": "code",
      "metadata": {
        "id": "EVKVTXjZ5Wjh",
        "colab_type": "code",
        "colab": {
          "base_uri": "https://localhost:8080/",
          "height": 289
        },
        "outputId": "952dad11-240d-464d-86fb-ed6927adfc1f"
      },
      "source": [
        "X_test.isnull().sum()"
      ],
      "execution_count": 43,
      "outputs": [
        {
          "output_type": "execute_result",
          "data": {
            "text/plain": [
              "masculino             0\n",
              "idade                 0\n",
              "educação              0\n",
              "fumante_atual         0\n",
              "cigarros_por_dia      0\n",
              "remedioHAS            0\n",
              "AVCp                  0\n",
              "hipertensão_pre       0\n",
              "diabetes              0\n",
              "colesterol_total      0\n",
              "pressao_sistolica     0\n",
              "pressao_diastolica    0\n",
              "IMC                   0\n",
              "feq_cardiaca          0\n",
              "glicose               0\n",
              "dtype: int64"
            ]
          },
          "metadata": {
            "tags": []
          },
          "execution_count": 43
        }
      ]
    },
    {
      "cell_type": "code",
      "metadata": {
        "id": "rKAEYSdd5oFn",
        "colab_type": "code",
        "colab": {
          "base_uri": "https://localhost:8080/",
          "height": 272
        },
        "outputId": "ff9560f9-a9f6-4577-e090-d3a94fa84e79"
      },
      "source": [
        "X_test.columns.to_list()"
      ],
      "execution_count": 44,
      "outputs": [
        {
          "output_type": "execute_result",
          "data": {
            "text/plain": [
              "['masculino',\n",
              " 'idade',\n",
              " 'educação',\n",
              " 'fumante_atual',\n",
              " 'cigarros_por_dia',\n",
              " 'remedioHAS',\n",
              " 'AVCp',\n",
              " 'hipertensão_pre',\n",
              " 'diabetes',\n",
              " 'colesterol_total',\n",
              " 'pressao_sistolica',\n",
              " 'pressao_diastolica',\n",
              " 'IMC',\n",
              " 'feq_cardiaca',\n",
              " 'glicose']"
            ]
          },
          "metadata": {
            "tags": []
          },
          "execution_count": 44
        }
      ]
    },
    {
      "cell_type": "code",
      "metadata": {
        "id": "M_cWZEda5cs6",
        "colab_type": "code",
        "colab": {
          "base_uri": "https://localhost:8080/",
          "height": 445
        },
        "outputId": "639b621c-87e5-4504-ffef-005fde680eed"
      },
      "source": [
        "#importando a biblioteca para padronizar a escala\n",
        "from sklearn.preprocessing import StandardScaler\n",
        "sc = StandardScaler()\n",
        "#criando a escala a partir dos dados de treino\n",
        "scaler = sc.fit(X_train[['idade', 'cigarros_por_dia', 'colesterol_total',\n",
        " 'pressao_sistolica', 'pressao_diastolica', 'IMC', 'feq_cardiaca', 'glicose']])\n",
        "#colocando em escala X_treino e X_teste\n",
        "X_train[['idade', 'cigarros_por_dia', 'colesterol_total',\n",
        " 'pressao_sistolica', 'pressao_diastolica', 'IMC', 'feq_cardiaca', 'glicose']]= scaler.transform(X_train[['idade', 'cigarros_por_dia', 'colesterol_total',\n",
        " 'pressao_sistolica', 'pressao_diastolica', 'IMC', 'feq_cardiaca', 'glicose']])\n",
        "X_test[['idade', 'cigarros_por_dia', 'colesterol_total',\n",
        " 'pressao_sistolica', 'pressao_diastolica', 'IMC', 'feq_cardiaca', 'glicose']]= scaler.transform(X_test[['idade', 'cigarros_por_dia', 'colesterol_total',\n",
        " 'pressao_sistolica', 'pressao_diastolica', 'IMC', 'feq_cardiaca', 'glicose']])\n"
      ],
      "execution_count": 45,
      "outputs": [
        {
          "output_type": "stream",
          "text": [
            "/usr/local/lib/python3.6/dist-packages/ipykernel_launcher.py:10: SettingWithCopyWarning: \n",
            "A value is trying to be set on a copy of a slice from a DataFrame.\n",
            "Try using .loc[row_indexer,col_indexer] = value instead\n",
            "\n",
            "See the caveats in the documentation: https://pandas.pydata.org/pandas-docs/stable/user_guide/indexing.html#returning-a-view-versus-a-copy\n",
            "  # Remove the CWD from sys.path while we load stuff.\n",
            "/usr/local/lib/python3.6/dist-packages/pandas/core/indexing.py:966: SettingWithCopyWarning: \n",
            "A value is trying to be set on a copy of a slice from a DataFrame.\n",
            "Try using .loc[row_indexer,col_indexer] = value instead\n",
            "\n",
            "See the caveats in the documentation: https://pandas.pydata.org/pandas-docs/stable/user_guide/indexing.html#returning-a-view-versus-a-copy\n",
            "  self.obj[item] = s\n",
            "/usr/local/lib/python3.6/dist-packages/ipykernel_launcher.py:13: SettingWithCopyWarning: \n",
            "A value is trying to be set on a copy of a slice from a DataFrame.\n",
            "Try using .loc[row_indexer,col_indexer] = value instead\n",
            "\n",
            "See the caveats in the documentation: https://pandas.pydata.org/pandas-docs/stable/user_guide/indexing.html#returning-a-view-versus-a-copy\n",
            "  del sys.path[0]\n",
            "/usr/local/lib/python3.6/dist-packages/pandas/core/indexing.py:966: SettingWithCopyWarning: \n",
            "A value is trying to be set on a copy of a slice from a DataFrame.\n",
            "Try using .loc[row_indexer,col_indexer] = value instead\n",
            "\n",
            "See the caveats in the documentation: https://pandas.pydata.org/pandas-docs/stable/user_guide/indexing.html#returning-a-view-versus-a-copy\n",
            "  self.obj[item] = s\n"
          ],
          "name": "stderr"
        }
      ]
    },
    {
      "cell_type": "markdown",
      "metadata": {
        "id": "kR2M3CIdVTaL",
        "colab_type": "text"
      },
      "source": [
        "![Screen Shot 2020-08-14 at 11.20.58.png](data:image/png;base64,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)"
      ]
    },
    {
      "cell_type": "code",
      "metadata": {
        "id": "WABQpGp37wgf",
        "colab_type": "code",
        "colab": {
          "base_uri": "https://localhost:8080/",
          "height": 224
        },
        "outputId": "e2f97a23-68ad-42f8-e502-aca6f181db36"
      },
      "source": [
        "X_train.head()"
      ],
      "execution_count": null,
      "outputs": [
        {
          "output_type": "execute_result",
          "data": {
            "text/html": [
              "<div>\n",
              "<style scoped>\n",
              "    .dataframe tbody tr th:only-of-type {\n",
              "        vertical-align: middle;\n",
              "    }\n",
              "\n",
              "    .dataframe tbody tr th {\n",
              "        vertical-align: top;\n",
              "    }\n",
              "\n",
              "    .dataframe thead th {\n",
              "        text-align: right;\n",
              "    }\n",
              "</style>\n",
              "<table border=\"1\" class=\"dataframe\">\n",
              "  <thead>\n",
              "    <tr style=\"text-align: right;\">\n",
              "      <th></th>\n",
              "      <th>masculino</th>\n",
              "      <th>idade</th>\n",
              "      <th>educação</th>\n",
              "      <th>fumante_atual</th>\n",
              "      <th>cigarros_por_dia</th>\n",
              "      <th>remedioHAS</th>\n",
              "      <th>AVCp</th>\n",
              "      <th>hipertensão_pre</th>\n",
              "      <th>diabetes</th>\n",
              "      <th>colesterol_total</th>\n",
              "      <th>pressao_sistolica</th>\n",
              "      <th>pressao_diastolica</th>\n",
              "      <th>IMC</th>\n",
              "      <th>feq_cardiaca</th>\n",
              "      <th>glicose</th>\n",
              "    </tr>\n",
              "  </thead>\n",
              "  <tbody>\n",
              "    <tr>\n",
              "      <th>1413</th>\n",
              "      <td>1</td>\n",
              "      <td>-1.236973</td>\n",
              "      <td>1.0</td>\n",
              "      <td>1</td>\n",
              "      <td>2.588506</td>\n",
              "      <td>0.0</td>\n",
              "      <td>0</td>\n",
              "      <td>0</td>\n",
              "      <td>0</td>\n",
              "      <td>0.321754</td>\n",
              "      <td>-0.785336</td>\n",
              "      <td>-0.502528</td>\n",
              "      <td>-0.448482</td>\n",
              "      <td>-0.929043</td>\n",
              "      <td>0.725970</td>\n",
              "    </tr>\n",
              "    <tr>\n",
              "      <th>1556</th>\n",
              "      <td>0</td>\n",
              "      <td>-0.768662</td>\n",
              "      <td>2.0</td>\n",
              "      <td>0</td>\n",
              "      <td>-0.773467</td>\n",
              "      <td>0.0</td>\n",
              "      <td>0</td>\n",
              "      <td>0</td>\n",
              "      <td>0</td>\n",
              "      <td>-0.553652</td>\n",
              "      <td>-1.639460</td>\n",
              "      <td>-1.747784</td>\n",
              "      <td>-1.576525</td>\n",
              "      <td>-0.178765</td>\n",
              "      <td>-0.091742</td>\n",
              "    </tr>\n",
              "    <tr>\n",
              "      <th>2639</th>\n",
              "      <td>0</td>\n",
              "      <td>-0.768662</td>\n",
              "      <td>1.0</td>\n",
              "      <td>0</td>\n",
              "      <td>-0.773467</td>\n",
              "      <td>0.0</td>\n",
              "      <td>0</td>\n",
              "      <td>0</td>\n",
              "      <td>0</td>\n",
              "      <td>0.529087</td>\n",
              "      <td>-0.245889</td>\n",
              "      <td>-0.294985</td>\n",
              "      <td>0.038793</td>\n",
              "      <td>-1.095771</td>\n",
              "      <td>-0.228027</td>\n",
              "    </tr>\n",
              "    <tr>\n",
              "      <th>1189</th>\n",
              "      <td>0</td>\n",
              "      <td>-0.183274</td>\n",
              "      <td>1.0</td>\n",
              "      <td>0</td>\n",
              "      <td>-0.773467</td>\n",
              "      <td>0.0</td>\n",
              "      <td>0</td>\n",
              "      <td>1</td>\n",
              "      <td>0</td>\n",
              "      <td>-1.567280</td>\n",
              "      <td>4.968761</td>\n",
              "      <td>4.935093</td>\n",
              "      <td>0.643014</td>\n",
              "      <td>0.738241</td>\n",
              "      <td>-0.228027</td>\n",
              "    </tr>\n",
              "    <tr>\n",
              "      <th>2299</th>\n",
              "      <td>1</td>\n",
              "      <td>-0.183274</td>\n",
              "      <td>2.0</td>\n",
              "      <td>0</td>\n",
              "      <td>-0.773467</td>\n",
              "      <td>1.0</td>\n",
              "      <td>0</td>\n",
              "      <td>1</td>\n",
              "      <td>0</td>\n",
              "      <td>2.279900</td>\n",
              "      <td>2.271528</td>\n",
              "      <td>2.071003</td>\n",
              "      <td>0.550432</td>\n",
              "      <td>2.488890</td>\n",
              "      <td>0.635113</td>\n",
              "    </tr>\n",
              "  </tbody>\n",
              "</table>\n",
              "</div>"
            ],
            "text/plain": [
              "      masculino     idade  educação  ...       IMC  feq_cardiaca   glicose\n",
              "1413          1 -1.236973       1.0  ... -0.448482     -0.929043  0.725970\n",
              "1556          0 -0.768662       2.0  ... -1.576525     -0.178765 -0.091742\n",
              "2639          0 -0.768662       1.0  ...  0.038793     -1.095771 -0.228027\n",
              "1189          0 -0.183274       1.0  ...  0.643014      0.738241 -0.228027\n",
              "2299          1 -0.183274       2.0  ...  0.550432      2.488890  0.635113\n",
              "\n",
              "[5 rows x 15 columns]"
            ]
          },
          "metadata": {
            "tags": []
          },
          "execution_count": 52
        }
      ]
    },
    {
      "cell_type": "code",
      "metadata": {
        "id": "CwFTP5d7yar1",
        "colab_type": "code",
        "colab": {
          "base_uri": "https://localhost:8080/",
          "height": 68
        },
        "outputId": "599d1aef-afd8-4e90-e208-fcb1607e5883"
      },
      "source": [
        "data['10anosDCH'].value_counts()"
      ],
      "execution_count": null,
      "outputs": [
        {
          "output_type": "execute_result",
          "data": {
            "text/plain": [
              "0    3596\n",
              "1     644\n",
              "Name: 10anosDCH, dtype: int64"
            ]
          },
          "metadata": {
            "tags": []
          },
          "execution_count": 53
        }
      ]
    },
    {
      "cell_type": "code",
      "metadata": {
        "id": "NkxhcUW7SxcJ",
        "colab_type": "code",
        "colab": {
          "base_uri": "https://localhost:8080/",
          "height": 306
        },
        "outputId": "13df9f26-b7f2-42bc-d9c8-7d711f89eb0d"
      },
      "source": [
        "data.dtypes"
      ],
      "execution_count": null,
      "outputs": [
        {
          "output_type": "execute_result",
          "data": {
            "text/plain": [
              "masculino               int64\n",
              "idade                   int64\n",
              "educação              float64\n",
              "fumante_atual           int64\n",
              "cigarros_por_dia      float64\n",
              "remedioHAS            float64\n",
              "AVCp                    int64\n",
              "hipertensão_pre         int64\n",
              "diabetes                int64\n",
              "colesterol_total      float64\n",
              "pressao_sistolica     float64\n",
              "pressao_diastolica    float64\n",
              "IMC                   float64\n",
              "feq_cardiaca          float64\n",
              "glicose               float64\n",
              "10anosDCH               int64\n",
              "dtype: object"
            ]
          },
          "metadata": {
            "tags": []
          },
          "execution_count": 54
        }
      ]
    },
    {
      "cell_type": "code",
      "metadata": {
        "id": "88q25NFaVzcm",
        "colab_type": "code",
        "colab": {}
      },
      "source": [
        "data['fumante_atual'] = data['fumante_atual'].astype(object)"
      ],
      "execution_count": null,
      "outputs": []
    },
    {
      "cell_type": "code",
      "metadata": {
        "id": "aPce-DkPWIJf",
        "colab_type": "code",
        "colab": {}
      },
      "source": [
        "data['educação'] = data['educação'].astype(object)"
      ],
      "execution_count": null,
      "outputs": []
    },
    {
      "cell_type": "code",
      "metadata": {
        "id": "LO4O3G2DWN5l",
        "colab_type": "code",
        "colab": {}
      },
      "source": [
        "data['remedioHAS'] = data['remedioHAS'].astype(object)"
      ],
      "execution_count": null,
      "outputs": []
    },
    {
      "cell_type": "code",
      "metadata": {
        "id": "-m8cuiRBWYni",
        "colab_type": "code",
        "colab": {}
      },
      "source": [
        "data['AVCp'] = data['AVCp'].astype(object)"
      ],
      "execution_count": null,
      "outputs": []
    },
    {
      "cell_type": "code",
      "metadata": {
        "id": "WmzZe2y0WgnC",
        "colab_type": "code",
        "colab": {}
      },
      "source": [
        "data['hipertensão_pre'] = data['hipertensão_pre'].astype(object)"
      ],
      "execution_count": null,
      "outputs": []
    },
    {
      "cell_type": "code",
      "metadata": {
        "id": "DwbtiHJ2WlYI",
        "colab_type": "code",
        "colab": {}
      },
      "source": [
        "data['diabetes'] = data['diabetes'].astype(object)"
      ],
      "execution_count": null,
      "outputs": []
    },
    {
      "cell_type": "code",
      "metadata": {
        "id": "IGzNEoJdWCTB",
        "colab_type": "code",
        "colab": {
          "base_uri": "https://localhost:8080/",
          "height": 306
        },
        "outputId": "f6c84126-90b2-41b7-e746-7b3508c80fef"
      },
      "source": [
        "data.dtypes"
      ],
      "execution_count": null,
      "outputs": [
        {
          "output_type": "execute_result",
          "data": {
            "text/plain": [
              "masculino               int64\n",
              "idade                   int64\n",
              "educação               object\n",
              "fumante_atual          object\n",
              "cigarros_por_dia      float64\n",
              "remedioHAS             object\n",
              "AVCp                   object\n",
              "hipertensão_pre        object\n",
              "diabetes               object\n",
              "colesterol_total      float64\n",
              "pressao_sistolica     float64\n",
              "pressao_diastolica    float64\n",
              "IMC                   float64\n",
              "feq_cardiaca          float64\n",
              "glicose               float64\n",
              "10anosDCH               int64\n",
              "dtype: object"
            ]
          },
          "metadata": {
            "tags": []
          },
          "execution_count": 61
        }
      ]
    },
    {
      "cell_type": "code",
      "metadata": {
        "id": "-K1PLvsOS5-V",
        "colab_type": "code",
        "colab": {
          "base_uri": "https://localhost:8080/",
          "height": 368
        },
        "outputId": "6f73fd41-2e29-4163-d09c-546edba932c0"
      },
      "source": [
        "import seaborn as sns\n",
        "\n",
        "sns.heatmap(data.corr(method = 'spearman'), annot=True, cmap=\"YlGnBu\")"
      ],
      "execution_count": null,
      "outputs": [
        {
          "output_type": "execute_result",
          "data": {
            "text/plain": [
              "<matplotlib.axes._subplots.AxesSubplot at 0x7f4579b362b0>"
            ]
          },
          "metadata": {
            "tags": []
          },
          "execution_count": 62
        },
        {
          "output_type": "display_data",
          "data": {
            "image/png": "[encoded data removed]",
            "text/plain": [
              "<Figure size 432x288 with 2 Axes>"
            ]
          },
          "metadata": {
            "tags": [],
            "needs_background": "light"
          }
        }
      ]
    },
    {
      "cell_type": "code",
      "metadata": {
        "id": "aOeGxc2hVRES",
        "colab_type": "code",
        "colab": {}
      },
      "source": [
        "from sklearn.ensemble import GradientBoostingClassifier"
      ],
      "execution_count": null,
      "outputs": []
    },
    {
      "cell_type": "code",
      "metadata": {
        "id": "4kK34SFCaQiW",
        "colab_type": "code",
        "colab": {}
      },
      "source": [
        "gbc = GradientBoostingClassifier()"
      ],
      "execution_count": null,
      "outputs": []
    },
    {
      "cell_type": "code",
      "metadata": {
        "id": "eMmGmpgsaUGD",
        "colab_type": "code",
        "colab": {
          "base_uri": "https://localhost:8080/",
          "height": 187
        },
        "outputId": "95ecba8d-46be-45b2-b5a9-1d66939f661e"
      },
      "source": [
        "gbc.fit(X_train, y_train)"
      ],
      "execution_count": null,
      "outputs": [
        {
          "output_type": "execute_result",
          "data": {
            "text/plain": [
              "GradientBoostingClassifier(ccp_alpha=0.0, criterion='friedman_mse', init=None,\n",
              "                           learning_rate=0.1, loss='deviance', max_depth=3,\n",
              "                           max_features=None, max_leaf_nodes=None,\n",
              "                           min_impurity_decrease=0.0, min_impurity_split=None,\n",
              "                           min_samples_leaf=1, min_samples_split=2,\n",
              "                           min_weight_fraction_leaf=0.0, n_estimators=100,\n",
              "                           n_iter_no_change=None, presort='deprecated',\n",
              "                           random_state=None, subsample=1.0, tol=0.0001,\n",
              "                           validation_fraction=0.1, verbose=0,\n",
              "                           warm_start=False)"
            ]
          },
          "metadata": {
            "tags": []
          },
          "execution_count": 65
        }
      ]
    },
    {
      "cell_type": "code",
      "metadata": {
        "id": "s1PLpzoWaau7",
        "colab_type": "code",
        "colab": {}
      },
      "source": [
        "pred = gbc.predict(X_test)"
      ],
      "execution_count": null,
      "outputs": []
    },
    {
      "cell_type": "code",
      "metadata": {
        "id": "hpN3vmqfcp1-",
        "colab_type": "code",
        "colab": {}
      },
      "source": [
        "from sklearn import metrics as m"
      ],
      "execution_count": null,
      "outputs": []
    },
    {
      "cell_type": "code",
      "metadata": {
        "id": "_6gJVlYZctk5",
        "colab_type": "code",
        "colab": {
          "base_uri": "https://localhost:8080/",
          "height": 170
        },
        "outputId": "eb45cb29-ffeb-4267-aff0-df5abbcb2333"
      },
      "source": [
        "print(m.classification_report(y_test, pred))"
      ],
      "execution_count": null,
      "outputs": [
        {
          "output_type": "stream",
          "text": [
            "              precision    recall  f1-score   support\n",
            "\n",
            "           0       0.86      0.98      0.92       905\n",
            "           1       0.42      0.08      0.14       155\n",
            "\n",
            "    accuracy                           0.85      1060\n",
            "   macro avg       0.64      0.53      0.53      1060\n",
            "weighted avg       0.80      0.85      0.80      1060\n",
            "\n"
          ],
          "name": "stdout"
        }
      ]
    },
    {
      "cell_type": "code",
      "metadata": {
        "id": "LCVQlOGaczp2",
        "colab_type": "code",
        "colab": {
          "base_uri": "https://localhost:8080/",
          "height": 51
        },
        "outputId": "ed9edc9c-6bf9-4123-dfaf-fde5444c3d44"
      },
      "source": [
        "print(m.confusion_matrix(y_test, pred))"
      ],
      "execution_count": null,
      "outputs": [
        {
          "output_type": "stream",
          "text": [
            "[[887  18]\n",
            " [142  13]]\n"
          ],
          "name": "stdout"
        }
      ]
    },
    {
      "cell_type": "markdown",
      "metadata": {
        "id": "R3IQA3IsdAbp",
        "colab_type": "text"
      },
      "source": [
        "# Aqui finalizamos um modelo baseline, sem ainda realizar estratégias de reabalanceamento que poderiam ser béficas, como SMOTE, SMOTE Tomek. Não realizamos hiperparametrização do modelo e utilizamos somente um modelo. \n",
        "\n"
      ]
    },
    {
      "cell_type": "code",
      "metadata": {
        "id": "qTo-2p8z8EYw",
        "colab_type": "code",
        "colab": {
          "base_uri": "https://localhost:8080/",
          "height": 71
        },
        "outputId": "3f574988-0842-4057-d635-04b9f3db6663"
      },
      "source": [
        "from imblearn.over_sampling import SMOTE\n",
        "sm = SMOTE(random_state=42)\n",
        "X_res, y_res = sm.fit_resample(X_train, y_train)"
      ],
      "execution_count": null,
      "outputs": [
        {
          "output_type": "stream",
          "text": [
            "/usr/local/lib/python3.6/dist-packages/sklearn/utils/deprecation.py:87: FutureWarning: Function safe_indexing is deprecated; safe_indexing is deprecated in version 0.22 and will be removed in version 0.24.\n",
            "  warnings.warn(msg, category=FutureWarning)\n"
          ],
          "name": "stderr"
        }
      ]
    },
    {
      "cell_type": "code",
      "metadata": {
        "id": "JRR2G7iJ8d_y",
        "colab_type": "code",
        "colab": {
          "base_uri": "https://localhost:8080/",
          "height": 34
        },
        "outputId": "1926fa47-ac8b-4039-8626-97f27a82e576"
      },
      "source": [
        "X_res.shape"
      ],
      "execution_count": null,
      "outputs": [
        {
          "output_type": "execute_result",
          "data": {
            "text/plain": [
              "(5382, 15)"
            ]
          },
          "metadata": {
            "tags": []
          },
          "execution_count": 72
        }
      ]
    },
    {
      "cell_type": "code",
      "metadata": {
        "id": "zsQqoKqD8gOL",
        "colab_type": "code",
        "colab": {}
      },
      "source": [
        "new_model = gbc.fit(X_res, y_res)"
      ],
      "execution_count": null,
      "outputs": []
    },
    {
      "cell_type": "code",
      "metadata": {
        "id": "spNbdIC18l5G",
        "colab_type": "code",
        "colab": {}
      },
      "source": [
        "p_res = new_model.predict(X_test)"
      ],
      "execution_count": null,
      "outputs": []
    },
    {
      "cell_type": "code",
      "metadata": {
        "id": "7FSwKqlV8rA-",
        "colab_type": "code",
        "colab": {
          "base_uri": "https://localhost:8080/",
          "height": 170
        },
        "outputId": "1b3d3a56-aafb-4f3d-a0e4-afa0d8e9f464"
      },
      "source": [
        "print(m.classification_report(y_test, p_res))"
      ],
      "execution_count": null,
      "outputs": [
        {
          "output_type": "stream",
          "text": [
            "              precision    recall  f1-score   support\n",
            "\n",
            "           0       0.88      0.85      0.87       905\n",
            "           1       0.28      0.33      0.30       155\n",
            "\n",
            "    accuracy                           0.78      1060\n",
            "   macro avg       0.58      0.59      0.58      1060\n",
            "weighted avg       0.79      0.78      0.78      1060\n",
            "\n"
          ],
          "name": "stdout"
        }
      ]
    },
    {
      "cell_type": "code",
      "metadata": {
        "id": "WArAFGew9I55",
        "colab_type": "code",
        "colab": {}
      },
      "source": [
        "prob = new_model.predict_proba(X_test)"
      ],
      "execution_count": null,
      "outputs": []
    },
    {
      "cell_type": "code",
      "metadata": {
        "id": "nxIWstnP9RX5",
        "colab_type": "code",
        "colab": {
          "base_uri": "https://localhost:8080/",
          "height": 275
        },
        "outputId": "05bb0e14-8d4b-4a47-a97d-a838c737b3aa"
      },
      "source": [
        "!pip install scikit-plot"
      ],
      "execution_count": null,
      "outputs": [
        {
          "output_type": "stream",
          "text": [
            "Collecting scikit-plot\n",
            "  Downloading https://files.pythonhosted.org/packages/7c/47/32520e259340c140a4ad27c1b97050dd3254fdc517b1d59974d47037510e/scikit_plot-0.3.7-py3-none-any.whl\n",
            "Requirement already satisfied: joblib>=0.10 in /usr/local/lib/python3.6/dist-packages (from scikit-plot) (0.16.0)\n",
            "Requirement already satisfied: matplotlib>=1.4.0 in /usr/local/lib/python3.6/dist-packages (from scikit-plot) (3.2.2)\n",
            "Requirement already satisfied: scipy>=0.9 in /usr/local/lib/python3.6/dist-packages (from scikit-plot) (1.4.1)\n",
            "Requirement already satisfied: scikit-learn>=0.18 in /usr/local/lib/python3.6/dist-packages (from scikit-plot) (0.22.2.post1)\n",
            "Requirement already satisfied: kiwisolver>=1.0.1 in /usr/local/lib/python3.6/dist-packages (from matplotlib>=1.4.0->scikit-plot) (1.2.0)\n",
            "Requirement already satisfied: cycler>=0.10 in /usr/local/lib/python3.6/dist-packages (from matplotlib>=1.4.0->scikit-plot) (0.10.0)\n",
            "Requirement already satisfied: numpy>=1.11 in /usr/local/lib/python3.6/dist-packages (from matplotlib>=1.4.0->scikit-plot) (1.18.5)\n",
            "Requirement already satisfied: python-dateutil>=2.1 in /usr/local/lib/python3.6/dist-packages (from matplotlib>=1.4.0->scikit-plot) (2.8.1)\n",
            "Requirement already satisfied: pyparsing!=2.0.4,!=2.1.2,!=2.1.6,>=2.0.1 in /usr/local/lib/python3.6/dist-packages (from matplotlib>=1.4.0->scikit-plot) (2.4.7)\n",
            "Requirement already satisfied: six in /usr/local/lib/python3.6/dist-packages (from cycler>=0.10->matplotlib>=1.4.0->scikit-plot) (1.15.0)\n",
            "Installing collected packages: scikit-plot\n",
            "Successfully installed scikit-plot-0.3.7\n"
          ],
          "name": "stdout"
        }
      ]
    },
    {
      "cell_type": "code",
      "metadata": {
        "id": "g05cYHLx8_8q",
        "colab_type": "code",
        "colab": {
          "base_uri": "https://localhost:8080/",
          "height": 584
        },
        "outputId": "0805caf2-8b0c-4c69-c28b-14ed4a8123bf"
      },
      "source": [
        "import scikitplot as skplt\n",
        "skplt.metrics.plot_roc_curve(y_test, prob, figsize=(8,8), curves='each_class')"
      ],
      "execution_count": null,
      "outputs": [
        {
          "output_type": "stream",
          "text": [
            "/usr/local/lib/python3.6/dist-packages/sklearn/utils/deprecation.py:87: FutureWarning: Function plot_roc_curve is deprecated; This will be removed in v0.5.0. Please use scikitplot.metrics.plot_roc instead.\n",
            "  warnings.warn(msg, category=FutureWarning)\n"
          ],
          "name": "stderr"
        },
        {
          "output_type": "execute_result",
          "data": {
            "text/plain": [
              "<matplotlib.axes._subplots.AxesSubplot at 0x7f45735aa470>"
            ]
          },
          "metadata": {
            "tags": []
          },
          "execution_count": 84
        },
        {
          "output_type": "display_data",
          "data": {
            "image/png": "[encoded data removed]",
            "text/plain": [
              "<Figure size 576x576 with 1 Axes>"
            ]
          },
          "metadata": {
            "tags": [],
            "needs_background": "light"
          }
        }
      ]
    }
  ]
}